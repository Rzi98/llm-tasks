{
 "cells": [
  {
   "cell_type": "markdown",
   "metadata": {},
   "source": [
    "## **facebook/bart-large-cnn** ##\n",
    "\n",
    "- Summarisation task"
   ]
  },
  {
   "cell_type": "code",
   "execution_count": 3,
   "metadata": {},
   "outputs": [
    {
     "data": {
      "text/html": [
       "<div>\n",
       "<style scoped>\n",
       "    .dataframe tbody tr th:only-of-type {\n",
       "        vertical-align: middle;\n",
       "    }\n",
       "\n",
       "    .dataframe tbody tr th {\n",
       "        vertical-align: top;\n",
       "    }\n",
       "\n",
       "    .dataframe thead th {\n",
       "        text-align: right;\n",
       "    }\n",
       "</style>\n",
       "<table border=\"1\" class=\"dataframe\">\n",
       "  <thead>\n",
       "    <tr style=\"text-align: right;\">\n",
       "      <th></th>\n",
       "      <th>conversation_id</th>\n",
       "      <th>message</th>\n",
       "      <th>sentiment</th>\n",
       "    </tr>\n",
       "  </thead>\n",
       "  <tbody>\n",
       "    <tr>\n",
       "      <th>0</th>\n",
       "      <td>1</td>\n",
       "      <td>Are you a fan of Google or Microsoft?</td>\n",
       "      <td>Curious to dive deeper</td>\n",
       "    </tr>\n",
       "    <tr>\n",
       "      <th>1</th>\n",
       "      <td>1</td>\n",
       "      <td>Both are excellent technology they are helpful...</td>\n",
       "      <td>Curious to dive deeper</td>\n",
       "    </tr>\n",
       "    <tr>\n",
       "      <th>2</th>\n",
       "      <td>1</td>\n",
       "      <td>I'm not  a huge fan of Google, but I use it a...</td>\n",
       "      <td>Curious to dive deeper</td>\n",
       "    </tr>\n",
       "    <tr>\n",
       "      <th>3</th>\n",
       "      <td>1</td>\n",
       "      <td>Google provides online related services and p...</td>\n",
       "      <td>Curious to dive deeper</td>\n",
       "    </tr>\n",
       "    <tr>\n",
       "      <th>4</th>\n",
       "      <td>1</td>\n",
       "      <td>Yeah, their services are good. I'm just not a...</td>\n",
       "      <td>Curious to dive deeper</td>\n",
       "    </tr>\n",
       "  </tbody>\n",
       "</table>\n",
       "</div>"
      ],
      "text/plain": [
       "   conversation_id                                            message  \\\n",
       "0                1              Are you a fan of Google or Microsoft?   \n",
       "1                1  Both are excellent technology they are helpful...   \n",
       "2                1   I'm not  a huge fan of Google, but I use it a...   \n",
       "3                1   Google provides online related services and p...   \n",
       "4                1   Yeah, their services are good. I'm just not a...   \n",
       "\n",
       "                sentiment  \n",
       "0  Curious to dive deeper  \n",
       "1  Curious to dive deeper  \n",
       "2  Curious to dive deeper  \n",
       "3  Curious to dive deeper  \n",
       "4  Curious to dive deeper  "
      ]
     },
     "execution_count": 3,
     "metadata": {},
     "output_type": "execute_result"
    }
   ],
   "source": [
    "import pandas as pd\n",
    "\n",
    "df = pd.read_csv('../../data/data.csv')\n",
    "\n",
    "df.head()"
   ]
  },
  {
   "cell_type": "code",
   "execution_count": 4,
   "metadata": {},
   "outputs": [
    {
     "name": "stdout",
     "output_type": "stream",
     "text": [
      "Max Length: 937\n",
      "Max Length ID: 73\n"
     ]
    }
   ],
   "source": [
    "max_length = 0\n",
    "max_length_id = None\n",
    "\n",
    "for conversation_id in range(1, 101):\n",
    "    res = \" \".join(df[df[\"conversation_id\"] == conversation_id][\"message\"])\n",
    "    s = res.split()\n",
    "    length = len(s)\n",
    "    if length > max_length:\n",
    "        max_length = length\n",
    "        max_length_id = conversation_id\n",
    "\n",
    "\n",
    "print(f\"Max Length: {max_length}\")\n",
    "print(f\"Max Length ID: {max_length_id}\")"
   ]
  },
  {
   "cell_type": "markdown",
   "metadata": {},
   "source": [
    "## **Concatenating individual messages to form the entire conversation** ##"
   ]
  },
  {
   "cell_type": "code",
   "execution_count": 26,
   "metadata": {},
   "outputs": [
    {
     "name": "stdout",
     "output_type": "stream",
     "text": [
      "('Government is fascinating. It seems so different the world over yet there '\n",
      " 'are common threads in every type.  I agree. Some governments try to help, '\n",
      " 'others, not so much. So true. I wonder what america would look like if we '\n",
      " 'had a PM instead of a president. A PM seems to be held more accountable for '\n",
      " \"their actions. True. Much easier to remove. Australia's PM position isn't in \"\n",
      " 'the constitution and exists only through custom. That seems strange to me. '\n",
      " \"Not in the Constitution? Australia's constitution is weird though. It \"\n",
      " \"doesn't protect the people as much like an american one does. I did not know \"\n",
      " 'that. Number 10 Downing Street has a cat with a title! I wonder how many '\n",
      " 'other government headquarters have animals like that. With all the historic '\n",
      " 'buildings in the UK I could see why they need one. Older structures like '\n",
      " 'that tend to attract rodents. Is one cat enough though? Might need a support '\n",
      " 'staff. Right? lol. I wonder if you can meet the cat if you tour the offices? '\n",
      " \"The cat doesn't take visitors without an appointment. I could see the cat \"\n",
      " 'being involved in a lot of the pranks the UK officials seem to play on each '\n",
      " 'other.  When you turn 100 in japan, the PM gives you a silver cup to '\n",
      " 'celebrate. Too many people are turning 100 so that they had to find a way to '\n",
      " 'make cheaper cups. Maybe give the cup when people turn 200? That would be '\n",
      " 'one way to cut the costs. How many people are turning 100 that it is costing '\n",
      " 'enough to have to find a cheaper solution? Talk about a healthy society.  '\n",
      " \"Yeah. Celebrating a centennial is cool, but the gov't can't afford it! Are \"\n",
      " 'you a fan of Johnny Depp? I find him very interesting. He is one of those '\n",
      " \"chameleon actors that you never watch and go Oh that's Johnny Depp he sort \"\n",
      " 'of absorbs the character. Johnny  is producing and maybe starring in a '\n",
      " 'biopic about  Dr. Seuss. I would be interested in that. I think he would '\n",
      " 'make a fantastic Dr. Seuss Look what an amazing job he did with willy wonka. '\n",
      " 'I think the creepy edge he gave to the character was perfect.  He is really '\n",
      " 'dedicated to his craft. Edward Scissorhands was an odd film, but he made it '\n",
      " 'work. That whole movie was just weird. He might be a strange man but he '\n",
      " 'seems to really have a good heart. I know that he often visits children in '\n",
      " 'the hospital dressed up as a pirate. He seems to really be an animal lover '\n",
      " 'too.')\n",
      "<class 'str'>\n",
      "437\n"
     ]
    }
   ],
   "source": [
    "from pprint import pprint\n",
    "conversation_id = 72\n",
    "res = \" \".join(df[df[\"conversation_id\"] == conversation_id][\"message\"])\n",
    "s = res.split()\n",
    "pprint(res)\n",
    "print(type(res))\n",
    "print(len(s))"
   ]
  },
  {
   "cell_type": "code",
   "execution_count": 3,
   "metadata": {},
   "outputs": [
    {
     "name": "stdout",
     "output_type": "stream",
     "text": [
      "Done\n"
     ]
    }
   ],
   "source": [
    "import json, os\n",
    "import pandas as pd\n",
    "from pathlib import Path\n",
    "from typing import Optional, Dict\n",
    "from transformers import pipeline\n",
    "\n",
    "input = Path('../../data/data.csv')\n",
    "output = Path('../../summary/bart-summary.json')\n",
    "\n",
    "# Runs the highlevel pipeline to load the tokenizer and model\n",
    "summarizer = pipeline(\"summarization\", model=\"facebook/bart-large-cnn\")\n",
    "\n",
    "def summarize_conversation(conversation_id: int, filepath: Optional[Path]=input) -> Dict:\n",
    "    \"\"\"\n",
    "        ARGS:\n",
    "            conversation_id: int\n",
    "            filepath: Path\n",
    "        RETURN:\n",
    "            hashmap: Dict\n",
    "        \n",
    "        Summarize a conversation given a conversation_id and store in a hashmap\n",
    "        Returns exceeed max token limit if the paragraph exceeds the max token limit in the Exception\n",
    "    \"\"\"\n",
    "    df: pd.DataFrame \n",
    "    paragraph: str\n",
    "    hashmap: Dict = {\n",
    "        \"conversation_id\": conversation_id,\n",
    "        \"message\": None,\n",
    "        \"summary\": None\n",
    "    }\n",
    "\n",
    "    if not filepath.exists():\n",
    "        raise FileNotFoundError(f\"File {filepath} does not exist\")\n",
    "\n",
    "    \n",
    "    df = pd.read_csv(filepath)\n",
    "    paragraph = \" \".join(df[df[\"conversation_id\"] == conversation_id][\"message\"])\n",
    "\n",
    "    hashmap[\"conversation_id\"] = conversation_id\n",
    "\n",
    "    try:\n",
    "        hashmap[\"summary\"] = summarizer(paragraph, max_length=50, min_length=30, do_sample=False, num_beams=4)[0]['summary_text']\n",
    "        \n",
    "    except Exception as e:\n",
    "        hashmap[\"summary\"] = \"Exceed max token limit.\"\n",
    "\n",
    "    hashmap['message'] = paragraph\n",
    "\n",
    "    return hashmap\n",
    "\n",
    "\n",
    "def save_to_json(data: Dict, resultpath: Optional[Path]=output) -> None:\n",
    "    \"\"\"\n",
    "        ARGS:\n",
    "            data: Dict\n",
    "            resultpath: Path\n",
    "        RETURN:\n",
    "            None\n",
    "        \n",
    "        Save data to a json file\n",
    "    \"\"\"\n",
    "\n",
    "    if not resultpath.exists():\n",
    "        if not os.path.exists(os.path.dirname(resultpath)):\n",
    "            os.makedirs(os.path.dirname(resultpath))\n",
    "        res = []\n",
    "    else:\n",
    "        with open(file=resultpath, mode=\"r\") as f:\n",
    "            res = json.load(f)\n",
    "\n",
    "    res.append(data)\n",
    "\n",
    "    with open(file=resultpath, mode=\"w\") as f:\n",
    "        json.dump(res, f, indent=4)\n",
    "\n",
    "\n",
    "if __name__ == \"__main__\":\n",
    "    for id in range(1, 101):\n",
    "        data = summarize_conversation(id)\n",
    "        save_to_json(data)\n",
    "            \n",
    "    print(\"Done\")"
   ]
  }
 ],
 "metadata": {
  "kernelspec": {
   "display_name": "splore",
   "language": "python",
   "name": "python3"
  },
  "language_info": {
   "codemirror_mode": {
    "name": "ipython",
    "version": 3
   },
   "file_extension": ".py",
   "mimetype": "text/x-python",
   "name": "python",
   "nbconvert_exporter": "python",
   "pygments_lexer": "ipython3",
   "version": "3.11.9"
  }
 },
 "nbformat": 4,
 "nbformat_minor": 2
}
